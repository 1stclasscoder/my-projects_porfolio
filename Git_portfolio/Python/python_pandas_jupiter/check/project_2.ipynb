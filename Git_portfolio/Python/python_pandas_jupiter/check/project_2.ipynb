{
 "cells": [
  {
   "cell_type": "code",
   "execution_count": null,
   "id": "2ee31164",
   "metadata": {},
   "outputs": [],
   "source": [
    "import pandas as pd\n",
    "zoo_read = pd.read_csv('zoo.csv', sep = ',')\n",
    "zoo_read\n"
   ]
  },
  {
   "cell_type": "code",
   "execution_count": null,
   "id": "a146b5d9",
   "metadata": {},
   "outputs": [],
   "source": [
    "zoo_read[['animal']].count()\n",
    "# zoo_read.animal.count()"
   ]
  },
  {
   "cell_type": "code",
   "execution_count": null,
   "id": "6e18d4c2",
   "metadata": {},
   "outputs": [],
   "source": [
    "# zoo_read.water_need.sum()\n",
    "zoo_read.sum()"
   ]
  },
  {
   "cell_type": "code",
   "execution_count": null,
   "id": "70cb60ed",
   "metadata": {},
   "outputs": [],
   "source": [
    "zoo_read.water_need.min()\n",
    "zoo_read[['water_need']].max()"
   ]
  },
  {
   "cell_type": "code",
   "execution_count": null,
   "id": "fe53b8ba",
   "metadata": {},
   "outputs": [],
   "source": [
    "zoo_read.water_need.mean()\n",
    "zoo_read.water_need.median()"
   ]
  },
  {
   "cell_type": "code",
   "execution_count": null,
   "id": "4ca293c4",
   "metadata": {},
   "outputs": [],
   "source": [
    "zoo_read.groupby('animal').mean()[['water_need']]"
   ]
  },
  {
   "cell_type": "code",
   "execution_count": null,
   "id": "85be4e51",
   "metadata": {},
   "outputs": [],
   "source": [
    "read_table = pd.read_csv('pandas_tutorial_read.csv', sep = ';', names = ['my_datetime', 'event', 'country', 'user_id', 'source', 'topic'])\n",
    "help_f = read_table.groupby('source').count().sort_values('my_datetime', ascending = [False]).head(1)[[]]\n",
    "help_f"
   ]
  },
  {
   "cell_type": "code",
   "execution_count": null,
   "id": "0b8f7f0e",
   "metadata": {},
   "outputs": [],
   "source": [
    "from openpyxl import load_workbook\n",
    "read_table_exl = read_table.head()\n",
    "read_table_exl.to_excel('output.xlsx', sheet_name='Sheet1', index=False)\n",
    "read_table_exl"
   ]
  },
  {
   "cell_type": "code",
   "execution_count": null,
   "id": "43f367a0",
   "metadata": {},
   "outputs": [],
   "source": [
    "from openpyxl import load_workbook\n",
    "import pandas as pd\n",
    "import sys\n",
    "sys.path.append('/Library/Frameworks/Python.framework/Versions/3.12/lib/python3.12/site-packages/xlsxwriter')\n",
    "import xlsxwriter\n",
    "book_excel = load_workbook('excel.xlsx')\n",
    "writer = pd.ExcelWriter('excel.xlsx', engine='xlsxwriter')\n",
    "writer.workbook = book_excel\n",
    "read_table_exl.to_excel(writer, sheet_name='Sheet2', index=False)"
   ]
  },
  {
   "cell_type": "code",
   "execution_count": 63,
   "id": "0aa16cef",
   "metadata": {},
   "outputs": [
    {
     "data": {
      "text/html": [
       "<div>\n",
       "<style scoped>\n",
       "    .dataframe tbody tr th:only-of-type {\n",
       "        vertical-align: middle;\n",
       "    }\n",
       "\n",
       "    .dataframe tbody tr th {\n",
       "        vertical-align: top;\n",
       "    }\n",
       "\n",
       "    .dataframe thead th {\n",
       "        text-align: right;\n",
       "    }\n",
       "</style>\n",
       "<table border=\"1\" class=\"dataframe\">\n",
       "  <thead>\n",
       "    <tr style=\"text-align: right;\">\n",
       "      <th></th>\n",
       "      <th>source</th>\n",
       "      <th>topic</th>\n",
       "    </tr>\n",
       "  </thead>\n",
       "  <tbody>\n",
       "    <tr>\n",
       "      <th>0</th>\n",
       "      <td>Reddit</td>\n",
       "      <td>Asia</td>\n",
       "    </tr>\n",
       "  </tbody>\n",
       "</table>\n",
       "</div>"
      ],
      "text/plain": [
       "   source topic\n",
       "0  Reddit  Asia"
      ]
     },
     "execution_count": 63,
     "metadata": {},
     "output_type": "execute_result"
    }
   ],
   "source": [
    "new_table_1 = read_table[read_table.country == 'country_2'].groupby('source').count().sort_values('my_datetime', ascending = [False]).head(1)[[]].reset_index()\n",
    "new_table_1\n",
    "new_table_2 = read_table[read_table.country == 'country_2'].groupby('topic').count().sort_values('my_datetime', ascending = [False]).head(1)[[]].reset_index()\n",
    "new_table_2\n",
    "tt = new_table_1.join(new_table_2, how='inner')\n",
    "tt"
   ]
  }
 ],
 "metadata": {
  "kernelspec": {
   "display_name": "Python 3 (ipykernel)",
   "language": "python",
   "name": "python3"
  },
  "language_info": {
   "codemirror_mode": {
    "name": "ipython",
    "version": 3
   },
   "file_extension": ".py",
   "mimetype": "text/x-python",
   "name": "python",
   "nbconvert_exporter": "python",
   "pygments_lexer": "ipython3",
   "version": "3.12.5"
  }
 },
 "nbformat": 4,
 "nbformat_minor": 5
}
